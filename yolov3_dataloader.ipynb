{
 "cells": [
  {
   "cell_type": "markdown",
   "metadata": {
    "colab_type": "text",
    "id": "qse0qhKQoOji"
   },
   "source": [
    "# Yolov3 Dataloader (Google Colab)\n",
    "\n",
    "Author: Kevin Yu (github.com/yqlbu) \\\n",
    "Email: kevinyu211@yahoo.com \\\n",
    " \\\n",
    "** This tool is tailored for those who want to train their custom dataset on a Yolov3 Model. \n",
    "\n",
    "** Make sure you read the instructions for each step carefully !!!\n",
    "\n",
    "** If you following the instructions below step by step, it will generate a new trained-weight in the end, and you may download it to your local machine.\n",
    "\n",
    "** In the github repo, you can find a \"demo.sh\" to test the result. \n",
    "\n",
    "\n",
    "\n",
    "\n",
    "#### Good Luck!"
   ]
  },
  {
   "cell_type": "markdown",
   "metadata": {
    "colab_type": "text",
    "id": "aLym52a0bWyL"
   },
   "source": [
    " # Setup"
   ]
  },
  {
   "cell_type": "markdown",
   "metadata": {
    "colab_type": "text",
    "id": "W2gi-8X7f2A2"
   },
   "source": [
    "### Install cuDNN-10.0 and other dependecies"
   ]
  },
  {
   "cell_type": "code",
   "execution_count": null,
   "metadata": {
    "colab": {},
    "colab_type": "code",
    "id": "kDGs_EKDmVhw"
   },
   "outputs": [],
   "source": [
    "# Download the cuDNN driver\n",
    "!wget https://objectstorage.ca-toronto-1.oraclecloud.com/n/yzpqsgba6ssd/b/bucket-20200415-0121/o/cudnn-10.0-linux-x64-v7.5.0.56.tgz -O cudnn-10.0-linux-x64-v7.5.0.56.tgz\n",
    "# We're unzipping the cuDNN files from your Drive folder directly to the VM CUDA folders\n",
    "!tar -xzvf cudnn-10.0-linux-x64-v7.5.0.56.tgz -C /usr/local/\n",
    "!chmod a+r /usr/local/cuda/include/cudnn.h\n",
    "\n",
    "# install python-nvcc plugin\n",
    "!pip install git+git://github.com/andreinechaev/nvcc4jupyter.git\n",
    "%load_ext nvcc_plugin\n",
    "\n",
    "# check if installed successfully\n",
    "!/usr/local/cuda/bin/nvcc --version"
   ]
  },
  {
   "cell_type": "markdown",
   "metadata": {
    "colab_type": "text",
    "id": "YErxkfC8nB_u"
   },
   "source": [
    "### Clone Yolov3-Darknet"
   ]
  },
  {
   "cell_type": "code",
   "execution_count": null,
   "metadata": {
    "colab": {},
    "colab_type": "code",
    "id": "b7LKlP4HXuBn"
   },
   "outputs": [],
   "source": [
    "!git clone https://github.com/AlexeyAB/darknet\n",
    "%cd darknet\n",
    "!wget https://objectstorage.ca-toronto-1.oraclecloud.com/n/yzpqsgba6ssd/b/bucket-20200415-0121/o/yolov3.weights -q --show-progress --no-clobber -O /content/darknet/yolov3.weights\n",
    "!wget https://objectstorage.ca-toronto-1.oraclecloud.com/n/yzpqsgba6ssd/b/bucket-20200415-0121/o/yolov3-tiny.weights -q --show-progress --no-clobber -O /content/darknet/yolov3-tiny.weights\n",
    "!wget https://objectstorage.ca-toronto-1.oraclecloud.com/n/yzpqsgba6ssd/b/bucket-20200415-0121/o/darknet53.conv.74 -q --show-progress --no-clobber -O /content/darknet/cfg/darknet53.conv.74"
   ]
  },
  {
   "cell_type": "markdown",
   "metadata": {
    "colab_type": "text",
    "id": "FOGvEHFHnZT-"
   },
   "source": [
    "### Compile YOLOv3-Darknet with CUDA 10.0"
   ]
  },
  {
   "cell_type": "code",
   "execution_count": null,
   "metadata": {
    "colab": {},
    "colab_type": "code",
    "id": "XA-kzzQBnibH"
   },
   "outputs": [],
   "source": [
    "!export PATH=/usr/local/cuda-10.0/bin${PATH:+:${PATH}}\n",
    "!export LD_LIBRARY_PATH=/usr/local/cuda-10.0/lib64${LD_LIBRARY_PATH:+:${LD_LIBRARY_PATH}}\n",
    "%cd /content/darknet\n",
    "!sed -i 's|GPU=0|GPU=1|' Makefile\n",
    "!sed -i 's|CUDNN=0|CUDNN=1|' Makefile\n",
    "!sed -i 's|OPENCV=0|OPENCV=1|' Makefile"
   ]
  },
  {
   "cell_type": "code",
   "execution_count": null,
   "metadata": {
    "colab": {},
    "colab_type": "code",
    "id": "jlvO3Aqtq34b"
   },
   "outputs": [],
   "source": [
    "!make"
   ]
  },
  {
   "cell_type": "markdown",
   "metadata": {
    "colab_type": "text",
    "id": "ncQP4RkEgLYM"
   },
   "source": [
    "### Clone the project from Github"
   ]
  },
  {
   "cell_type": "code",
   "execution_count": null,
   "metadata": {
    "colab": {},
    "colab_type": "code",
    "id": "qiiDqn7ScCS5"
   },
   "outputs": [],
   "source": [
    "%cd /content\n",
    "!git clone https://github.com/yqlbu/yolov3-dataloader\n",
    "!mkdir /content/yolov3-dataloader/backup"
   ]
  },
  {
   "cell_type": "markdown",
   "metadata": {
    "colab_type": "text",
    "id": "ykDtfOqJrrry"
   },
   "source": [
    "# Upload dataset"
   ]
  },
  {
   "cell_type": "markdown",
   "metadata": {
    "colab_type": "text",
    "id": "epgJCd1orwEf"
   },
   "source": [
    "*** Please follow the steps below to upload your dataset to the data folder located at  '/content/data'"
   ]
  },
  {
   "cell_type": "markdown",
   "metadata": {
    "colab_type": "text",
    "id": "e5lljLF_psL3"
   },
   "source": [
    "**Step #0: Prepare your own dataset**\n",
    "\n",
    "- On your local machine, create a new folder named \"data\"\n",
    "- Put all the images and the \".xml\" files associated with each image into this data folder\n",
    "- Zip the data folder\n",
    "\n",
    "*** Noted: \n",
    "- You should have a zip file called \"data.zip\" that contains all the images (.png/.jpg/.jpeg) aligned with the .xml files to be trained before moving to the next step."
   ]
  },
  {
   "cell_type": "markdown",
   "metadata": {
    "colab_type": "text",
    "id": "lyelGXq_Wtij"
   },
   "source": [
    "**Step #1: Mount your Google Drive**\n",
    "\n",
    "To do so, you may simply click the Mount Drive button on the left column"
   ]
  },
  {
   "cell_type": "markdown",
   "metadata": {
    "colab_type": "text",
    "id": "Lnp9k0d_XLX1"
   },
   "source": [
    "**Step #2: Unzip the data file from your Google Drive to the 'yolov3-dataloader' directory**\n",
    "- Note: if your path contains a \" \" (space), you should add a '\\ ' between characters\n",
    "- eg: '/content/drive/Shared\\ drives/dataset/data.zip'\n",
    "- To easily find the path just simply find the data.zip file in your drive and right-click the \"copy path\"\n",
    "- Please make sure you correctly find your file path before executing this cell. Otherwise, it won't work."
   ]
  },
  {
   "cell_type": "code",
   "execution_count": null,
   "metadata": {
    "colab": {},
    "colab_type": "code",
    "id": "LAUaRap8Ml5t"
   },
   "outputs": [],
   "source": [
    "!unzip <DATA_PATH> -d /content/yolov3-dataloader\n",
    "!echo '  Finished loading dataset !'"
   ]
  },
  {
   "cell_type": "markdown",
   "metadata": {
    "colab_type": "text",
    "id": "Blb_Cnn7Xge_"
   },
   "source": [
    "*** Noted: If the above commands excuted correctly, you may click the 'refresh button' on the left column, and you will see the data folder created inside the 'yolov3-dataloader' directory\n",
    "\n",
    "*** Now you should be good to move forward ! Good Luck !"
   ]
  },
  {
   "cell_type": "markdown",
   "metadata": {
    "colab_type": "text",
    "id": "gmP07ozGoAPX"
   },
   "source": [
    "# Create config files for training"
   ]
  },
  {
   "cell_type": "markdown",
   "metadata": {
    "colab_type": "text",
    "id": "FK8q7clDuZWa"
   },
   "source": [
    "*** Notes (Please read carefully before you excute the cells below):\n",
    "\n",
    " - Please make sure you set config parameters below corrently. Otherwise, you will not be able to activate the training process.\n",
    " - **MODEL_NAME** is the name of your new model\n",
    " - **CLASS_NAME** is associated with all the classes that your dataset contains, please fill in the CLASS_NAME list correctly with your classes\n",
    " - **CLASS_NUM** is associated with the total number of classes that your dataset contains\n",
    " - **MAX_BATCHES** is the total number of iterations in the training\n",
    " - If you set all the parameters mentioned above properly, you should be good to move forward"
   ]
  },
  {
   "cell_type": "code",
   "execution_count": null,
   "metadata": {
    "colab": {},
    "colab_type": "code",
    "id": "lwikhrbvoMDP"
   },
   "outputs": [],
   "source": [
    "import os\n",
    "\n",
    "#New Model Parameters\n",
    "\n",
    "#Replace NEW_MODEL_NAME with your new model name\n",
    "MODEL_NAME = 'mask'\n",
    "#Put your classes tag below\n",
    "CLASS_NAME = [\n",
    "    \"Mask\",\n",
    "    \"No_Mask\"\n",
    "]\n",
    "#Replace # with your classes number (int), 2 is set as the default value\n",
    "CLASS_NUM = 2\n",
    "#Replace your desired batch # (6000 as default)\n",
    "#Ideally the MAX_BATCHES = 2500*CLASS_NUM\n",
    "MAX_BATCHES = 5000\n",
    "\n",
    "%cd /content/yolov3-dataloader"
   ]
  },
  {
   "cell_type": "code",
   "execution_count": null,
   "metadata": {
    "colab": {},
    "colab_type": "code",
    "id": "VnIQ2FnToY36"
   },
   "outputs": [],
   "source": [
    "#class.name\n",
    "with open(MODEL_NAME+'.names', \"a+\") as file:\n",
    "    file.seek(0)\n",
    "    for i in CLASS_NAME:\n",
    "        file.write(i + '\\n')\n",
    "    print(MODEL_NAME+'.names'+' has been successfully created!')\n",
    "    file.close()"
   ]
  },
  {
   "cell_type": "code",
   "execution_count": null,
   "metadata": {
    "colab": {},
    "colab_type": "code",
    "id": "B6MtNKzRobCS"
   },
   "outputs": [],
   "source": [
    "#class.data\n",
    "with open(MODEL_NAME+'.data', \"a+\") as file:\n",
    "    file.seek(0)\n",
    "    file.write('classes = ' + str(CLASS_NUM) + '\\n')\n",
    "    file.write('train = /content/yolov3-dataloader/train.txt' + '\\n')\n",
    "    file.write('valid = /content/yolov3-dataloader/test.txt' + '\\n')\n",
    "    file.write('backup = /content/yolov3-dataloader/backup' + '\\n')\n",
    "    file.write('names = /content/yolov3-dataloader/' + MODEL_NAME + '.names' + '\\n')\n",
    "    print(MODEL_NAME+'.data'+' has been successfully created!')\n",
    "    file.close()"
   ]
  },
  {
   "cell_type": "code",
   "execution_count": null,
   "metadata": {
    "colab": {},
    "colab_type": "code",
    "id": "VtIKMtH-odSx"
   },
   "outputs": [],
   "source": [
    "#dataDispatch.py\n",
    "with open('dataDispatch.py', \"r\") as file:\n",
    "    file.seek(0)\n",
    "    all_lines = file.readlines()\n",
    "    file.close()\n",
    "with open('dataDispatch.py', \"w\") as file:\n",
    "    all_lines[7] = 'classes = ' + str(CLASS_NAME) + '\\n'\n",
    "    print(all_lines[7].strip())\n",
    "    file.writelines(all_lines)\n",
    "    print('dataDispatch.py'+' has been successfully modified!')\n",
    "    file.close()"
   ]
  },
  {
   "cell_type": "code",
   "execution_count": null,
   "metadata": {
    "colab": {},
    "colab_type": "code",
    "id": "P9ZsZTTLohc3"
   },
   "outputs": [],
   "source": [
    "#class-yolov3-tiny.cfg\n",
    "with open('temp-config.txt', \"r\") as file:\n",
    "    file.seek(0)\n",
    "    all_lines = file.readlines()\n",
    "    file.close()\n",
    "with open(MODEL_NAME+'-yolov3-tiny.cfg', \"w\") as file:\n",
    "    #modify class #\n",
    "    all_lines[134] = 'classes=' + str(CLASS_NUM) + '\\n'\n",
    "    all_lines[176] = 'classes=' + str(CLASS_NUM) + '\\n'\n",
    "    #modify max-batches\n",
    "    all_lines[19] = 'max_batches = ' + str(MAX_BATCHES) + '\\n'    \n",
    "    #modify filter ## filter = (CLASS_NUM+5) *3 ##\n",
    "    all_lines[126] = 'filters=' + str((CLASS_NUM+5) *3) + '\\n'\n",
    "    all_lines[170] = 'filters=' + str((CLASS_NUM+5) *3) + '\\n'\n",
    "    #overwrite all\n",
    "    file.writelines(all_lines)\n",
    "    print(MODEL_NAME+'-yolov3-tiny.cfg'+' has been successfully created!')\n",
    "    file.close()"
   ]
  },
  {
   "cell_type": "code",
   "execution_count": null,
   "metadata": {
    "colab": {},
    "colab_type": "code",
    "id": "ko3TyMGXoflw"
   },
   "outputs": [],
   "source": [
    "#train.sh\n",
    "with open('train.sh', \"r\") as file:\n",
    "    file.seek(0)\n",
    "    all_lines = file.readlines()\n",
    "    file.close()\n",
    "with open('train.sh', \"w\") as file:\n",
    "    all_lines[5] = '$PRJ_PATH/' + MODEL_NAME + '.data \\\\' + '\\n'\n",
    "    all_lines[6] = '$PRJ_PATH/' + MODEL_NAME+'-yolov3-tiny.cfg' + ' \\\\' + '\\n'\n",
    "    file.writelines(all_lines)\n",
    "    print('train.sh'+' has been successfully modified!')\n",
    "    file.close()"
   ]
  },
  {
   "cell_type": "markdown",
   "metadata": {
    "colab_type": "text",
    "id": "buwJRRWrb2iM"
   },
   "source": [
    "# Training"
   ]
  },
  {
   "cell_type": "markdown",
   "metadata": {
    "colab_type": "text",
    "id": "KUgXcDa4wVBE"
   },
   "source": [
    "*** Notes:\n",
    "\n",
    " - Hit the \"Refresh\" button on the left column, and then navigate to the \"/yolov3-dataloader\" directory\n",
    " - Check if the directory contains the **\".data\"**, the **\".names\"**, and the **\".cfg\"** files. If you miss one or more of the files, please check the instructions from the above steps.\n",
    " - Now you should be good to activate the training process, good luck !"
   ]
  },
  {
   "cell_type": "code",
   "execution_count": null,
   "metadata": {
    "colab": {},
    "colab_type": "code",
    "id": "B-RomKWrgWsp",
    "scrolled": true
   },
   "outputs": [],
   "source": [
    "#start training\n",
    "!export PATH=/usr/local/cuda-10.0/bin${PATH:+:${PATH}}\n",
    "!export LD_LIBRARY_PATH=/usr/local/cuda-10.0/lib64${LD_LIBRARY_PATH:+:${LD_LIBRARY_PATH}}\n",
    "%cd /content/yolov3-dataloader/\n",
    "!python dataDispatch.py\n",
    "!source train.sh\n",
    "!echo '*** Congratulations! Training has completed. Enjoy! ***'"
   ]
  },
  {
   "cell_type": "markdown",
   "metadata": {},
   "source": [
    "*** You can observe a chart of how your model did throughout the training process by running the below command. It shows a chart of your average loss vs. iterations. For your model to be 'accurate' you would aim for a loss under 1."
   ]
  },
  {
   "cell_type": "code",
   "execution_count": null,
   "metadata": {},
   "outputs": [],
   "source": [
    "#view the training process\n",
    "%cd /content/darknet\n",
    "imShow('chart.png')"
   ]
  },
  {
   "cell_type": "markdown",
   "metadata": {
    "colab_type": "text",
    "id": "IBtHW5VbZtKB"
   },
   "source": [
    "*** Noted:\n",
    "- Once the training has finished, you may now go to the '/content/yolov3-dataload/backup' directory.\n",
    "- Download the final weights to your local machine. Enjoy !"
   ]
  },
  {
   "cell_type": "markdown",
   "metadata": {
    "colab_type": "text",
    "id": "yllA1i_PxgiH"
   },
   "source": [
    "# Demo"
   ]
  },
  {
   "cell_type": "markdown",
   "metadata": {
    "colab_type": "text",
    "id": "VBevdjxPxjOo"
   },
   "source": [
    "** Now that you have successfully trained your own dataset with the YOLOv3 model, it is time to test it out ! \\\n",
    " \\\n",
    "** Please follow the steps below:\n",
    "\n",
    " - Download the **\"train.txt\"**, **\"test.txt\"**, **\".data\"**, **\".names\"**, and **\".cfg\"** from \"/content/yolov3-dataloader\", and the **\"final_weight\"** from the \"/content/yolov3-dataloader/backup\" directory (in total **6 files** need to be downloaded) \n",
    " - On your local machine, navigate to the \"/yolov3-dataloader\" directory\n",
    "  - Open the .data file downloaded from Colab. \n",
    "  - Set the absolute path associated with the \"train.txt\", \"test.txt\", \".weight\", and \".names\". \n",
    "  - Save & Close\n",
    "  \n",
    " - On your local machine, navigate to the \"/yolov3-dataloader\" directory, then type the following commands \n",
    "\n",
    "   [a] nano demo.sh \\\n",
    "     --> You need to set the name of your .data, .cfg, and weight files in the demo.sh. \\\n",
    "     --> Also, you need to set the absolute path of both the darknet and the yolov3-dataloader. Save & Exit. \\\n",
    "   [b] chmod +x demo.sh \\\n",
    "   [c] ./demo.sh\n",
    "\n",
    "**  To import stream data from a media file, you need to place the media file (.mp4, .mkv, .avi) inside the directory, and then replace **\"-ext-out $PRJ_PATH\\YOUR_MEDIA\"** to the last line of \"demo.sh\" \\\n",
    " \\\n",
    "** Now, you should be good to go ! Enjoy XD! \\\n",
    "** If you have any suggestions or comments, please contact me via kevinyu211@yahoo.com\n",
    "\n",
    "\n"
   ]
  },
  {
   "cell_type": "code",
   "execution_count": null,
   "metadata": {},
   "outputs": [],
   "source": []
  }
 ],
 "metadata": {
  "accelerator": "GPU",
  "colab": {
   "collapsed_sections": [],
   "name": "yolov3-dataloader.ipynb",
   "provenance": [],
   "toc_visible": true
  },
  "kernelspec": {
   "display_name": "Python 3",
   "language": "python",
   "name": "python3"
  },
  "language_info": {
   "codemirror_mode": {
    "name": "ipython",
    "version": 3
   },
   "file_extension": ".py",
   "mimetype": "text/x-python",
   "name": "python",
   "nbconvert_exporter": "python",
   "pygments_lexer": "ipython3",
   "version": "3.6.9"
  }
 },
 "nbformat": 4,
 "nbformat_minor": 4
}
